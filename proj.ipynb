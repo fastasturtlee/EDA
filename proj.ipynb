{
 "cells": [
  {
   "cell_type": "code",
   "execution_count": 1701,
   "id": "b07a2ad5",
   "metadata": {},
   "outputs": [],
   "source": [
    "from pandas import DataFrame,read_csv,concat\n",
    "from numpy import argmax,cumsum\n",
    "from sklearn.preprocessing import OneHotEncoder\n",
    "from sklearn.model_selection import train_test_split\n",
    "from sklearn.decomposition import PCA\n",
    "from sklearn.preprocessing import StandardScaler,MinMaxScaler\n",
    "from keras.models import Sequential\n",
    "from keras.layers import Dense\n",
    "from keras.losses import Huber\n",
    "\n",
    "\n",
    "from joblib import dump"
   ]
  },
  {
   "cell_type": "markdown",
   "id": "3ef3c3c3",
   "metadata": {},
   "source": [
    "##### Read the data"
   ]
  },
  {
   "cell_type": "code",
   "execution_count": 1702,
   "id": "6515464e",
   "metadata": {},
   "outputs": [
    {
     "name": "stdout",
     "output_type": "stream",
     "text": [
      "Null values indices: [172, 260]\n"
     ]
    },
    {
     "data": {
      "text/plain": [
       "(375, 6)"
      ]
     },
     "execution_count": 1702,
     "metadata": {},
     "output_type": "execute_result"
    }
   ],
   "source": [
    "salary_data = read_csv('content/salary.csv')\n",
    "\n",
    "null_indices = salary_data[salary_data.isnull().any(axis=1)].index.tolist()\n",
    "print(\"Null values indices:\", null_indices)\n",
    "\n",
    "salary_data.shape\n"
   ]
  },
  {
   "cell_type": "code",
   "execution_count": 1703,
   "id": "0f8cf20f",
   "metadata": {},
   "outputs": [
    {
     "data": {
      "text/html": [
       "<div>\n",
       "<style scoped>\n",
       "    .dataframe tbody tr th:only-of-type {\n",
       "        vertical-align: middle;\n",
       "    }\n",
       "\n",
       "    .dataframe tbody tr th {\n",
       "        vertical-align: top;\n",
       "    }\n",
       "\n",
       "    .dataframe thead th {\n",
       "        text-align: right;\n",
       "    }\n",
       "</style>\n",
       "<table border=\"1\" class=\"dataframe\">\n",
       "  <thead>\n",
       "    <tr style=\"text-align: right;\">\n",
       "      <th></th>\n",
       "      <th>Age</th>\n",
       "      <th>Gender</th>\n",
       "      <th>Education Level</th>\n",
       "      <th>Job Title</th>\n",
       "      <th>Years of Experience</th>\n",
       "      <th>Salary</th>\n",
       "    </tr>\n",
       "  </thead>\n",
       "  <tbody>\n",
       "    <tr>\n",
       "      <th>0</th>\n",
       "      <td>32.0</td>\n",
       "      <td>Male</td>\n",
       "      <td>Bachelor's</td>\n",
       "      <td>Software Engineer</td>\n",
       "      <td>5.0</td>\n",
       "      <td>90000.0</td>\n",
       "    </tr>\n",
       "    <tr>\n",
       "      <th>1</th>\n",
       "      <td>28.0</td>\n",
       "      <td>Female</td>\n",
       "      <td>Master's</td>\n",
       "      <td>Data Analyst</td>\n",
       "      <td>3.0</td>\n",
       "      <td>65000.0</td>\n",
       "    </tr>\n",
       "    <tr>\n",
       "      <th>2</th>\n",
       "      <td>45.0</td>\n",
       "      <td>Male</td>\n",
       "      <td>PhD</td>\n",
       "      <td>Senior Manager</td>\n",
       "      <td>15.0</td>\n",
       "      <td>150000.0</td>\n",
       "    </tr>\n",
       "    <tr>\n",
       "      <th>3</th>\n",
       "      <td>36.0</td>\n",
       "      <td>Female</td>\n",
       "      <td>Bachelor's</td>\n",
       "      <td>Sales Associate</td>\n",
       "      <td>7.0</td>\n",
       "      <td>60000.0</td>\n",
       "    </tr>\n",
       "    <tr>\n",
       "      <th>4</th>\n",
       "      <td>52.0</td>\n",
       "      <td>Male</td>\n",
       "      <td>Master's</td>\n",
       "      <td>Director</td>\n",
       "      <td>20.0</td>\n",
       "      <td>200000.0</td>\n",
       "    </tr>\n",
       "    <tr>\n",
       "      <th>...</th>\n",
       "      <td>...</td>\n",
       "      <td>...</td>\n",
       "      <td>...</td>\n",
       "      <td>...</td>\n",
       "      <td>...</td>\n",
       "      <td>...</td>\n",
       "    </tr>\n",
       "    <tr>\n",
       "      <th>370</th>\n",
       "      <td>35.0</td>\n",
       "      <td>Female</td>\n",
       "      <td>Bachelor's</td>\n",
       "      <td>Senior Marketing Analyst</td>\n",
       "      <td>8.0</td>\n",
       "      <td>85000.0</td>\n",
       "    </tr>\n",
       "    <tr>\n",
       "      <th>371</th>\n",
       "      <td>43.0</td>\n",
       "      <td>Male</td>\n",
       "      <td>Master's</td>\n",
       "      <td>Director of Operations</td>\n",
       "      <td>19.0</td>\n",
       "      <td>170000.0</td>\n",
       "    </tr>\n",
       "    <tr>\n",
       "      <th>372</th>\n",
       "      <td>29.0</td>\n",
       "      <td>Female</td>\n",
       "      <td>Bachelor's</td>\n",
       "      <td>Junior Project Manager</td>\n",
       "      <td>2.0</td>\n",
       "      <td>40000.0</td>\n",
       "    </tr>\n",
       "    <tr>\n",
       "      <th>373</th>\n",
       "      <td>34.0</td>\n",
       "      <td>Male</td>\n",
       "      <td>Bachelor's</td>\n",
       "      <td>Senior Operations Coordinator</td>\n",
       "      <td>7.0</td>\n",
       "      <td>90000.0</td>\n",
       "    </tr>\n",
       "    <tr>\n",
       "      <th>374</th>\n",
       "      <td>44.0</td>\n",
       "      <td>Female</td>\n",
       "      <td>PhD</td>\n",
       "      <td>Senior Business Analyst</td>\n",
       "      <td>15.0</td>\n",
       "      <td>150000.0</td>\n",
       "    </tr>\n",
       "  </tbody>\n",
       "</table>\n",
       "<p>373 rows × 6 columns</p>\n",
       "</div>"
      ],
      "text/plain": [
       "      Age  Gender Education Level                      Job Title  \\\n",
       "0    32.0    Male      Bachelor's              Software Engineer   \n",
       "1    28.0  Female        Master's                   Data Analyst   \n",
       "2    45.0    Male             PhD                 Senior Manager   \n",
       "3    36.0  Female      Bachelor's                Sales Associate   \n",
       "4    52.0    Male        Master's                       Director   \n",
       "..    ...     ...             ...                            ...   \n",
       "370  35.0  Female      Bachelor's       Senior Marketing Analyst   \n",
       "371  43.0    Male        Master's         Director of Operations   \n",
       "372  29.0  Female      Bachelor's         Junior Project Manager   \n",
       "373  34.0    Male      Bachelor's  Senior Operations Coordinator   \n",
       "374  44.0  Female             PhD        Senior Business Analyst   \n",
       "\n",
       "     Years of Experience    Salary  \n",
       "0                    5.0   90000.0  \n",
       "1                    3.0   65000.0  \n",
       "2                   15.0  150000.0  \n",
       "3                    7.0   60000.0  \n",
       "4                   20.0  200000.0  \n",
       "..                   ...       ...  \n",
       "370                  8.0   85000.0  \n",
       "371                 19.0  170000.0  \n",
       "372                  2.0   40000.0  \n",
       "373                  7.0   90000.0  \n",
       "374                 15.0  150000.0  \n",
       "\n",
       "[373 rows x 6 columns]"
      ]
     },
     "execution_count": 1703,
     "metadata": {},
     "output_type": "execute_result"
    }
   ],
   "source": [
    "salary_data = salary_data.drop(index=null_indices,axis=1)\n",
    "salary_data"
   ]
  },
  {
   "cell_type": "markdown",
   "id": "45a7d8db",
   "metadata": {},
   "source": [
    "##### Created a seperate salary data"
   ]
  },
  {
   "cell_type": "code",
   "execution_count": 1704,
   "id": "0bf21298",
   "metadata": {},
   "outputs": [
    {
     "data": {
      "text/plain": [
       "0       90000.0\n",
       "1       65000.0\n",
       "2      150000.0\n",
       "3       60000.0\n",
       "4      200000.0\n",
       "         ...   \n",
       "370     85000.0\n",
       "371    170000.0\n",
       "372     40000.0\n",
       "373     90000.0\n",
       "374    150000.0\n",
       "Name: Salary, Length: 373, dtype: float64"
      ]
     },
     "execution_count": 1704,
     "metadata": {},
     "output_type": "execute_result"
    }
   ],
   "source": [
    "\n",
    "target_salary_data = salary_data['Salary']\n",
    "salary_data = salary_data.drop(columns=['Salary'],axis=1)\n",
    "\n",
    "target_salary_data\n"
   ]
  },
  {
   "cell_type": "code",
   "execution_count": null,
   "id": "a67dbe31",
   "metadata": {},
   "outputs": [],
   "source": [
    "\n",
    "scaler = MinMaxScaler()\n",
    "target_salary_data = scaler.fit_transform(target_salary_data.values.reshape(-1, 1))\n",
    "\n",
    "dump(scaler, 'arget_salary_scaler.pkl')\n",
    "\n",
    "\n"
   ]
  },
  {
   "cell_type": "code",
   "execution_count": 1706,
   "id": "45ddb3a1",
   "metadata": {},
   "outputs": [
    {
     "data": {
      "text/plain": [
       "[array([23., 24., 25., 26., 27., 28., 29., 30., 31., 32., 33., 34., 35.,\n",
       "        36., 37., 38., 39., 40., 41., 42., 43., 44., 45., 46., 47., 48.,\n",
       "        49., 50., 51., 52., 53.]),\n",
       " array([\"Bachelor's\", \"Master's\", 'PhD'], dtype=object),\n",
       " array(['Account Manager', 'Accountant', 'Administrative Assistant',\n",
       "        'Business Analyst', 'Business Development Manager',\n",
       "        'Business Intelligence Analyst', 'CEO', 'Chief Data Officer',\n",
       "        'Chief Technology Officer', 'Content Marketing Manager',\n",
       "        'Copywriter', 'Creative Director', 'Customer Service Manager',\n",
       "        'Customer Service Rep', 'Customer Service Representative',\n",
       "        'Customer Success Manager', 'Customer Success Rep', 'Data Analyst',\n",
       "        'Data Entry Clerk', 'Data Scientist', 'Digital Content Producer',\n",
       "        'Digital Marketing Manager', 'Director',\n",
       "        'Director of Business Development', 'Director of Engineering',\n",
       "        'Director of Finance', 'Director of HR',\n",
       "        'Director of Human Capital', 'Director of Human Resources',\n",
       "        'Director of Marketing', 'Director of Operations',\n",
       "        'Director of Product Management', 'Director of Sales',\n",
       "        'Director of Sales and Marketing', 'Event Coordinator',\n",
       "        'Financial Advisor', 'Financial Analyst', 'Financial Manager',\n",
       "        'Graphic Designer', 'HR Generalist', 'HR Manager',\n",
       "        'Help Desk Analyst', 'Human Resources Director', 'IT Manager',\n",
       "        'IT Support', 'IT Support Specialist', 'Junior Account Manager',\n",
       "        'Junior Accountant', 'Junior Advertising Coordinator',\n",
       "        'Junior Business Analyst', 'Junior Business Development Associate',\n",
       "        'Junior Business Operations Analyst', 'Junior Copywriter',\n",
       "        'Junior Customer Support Specialist', 'Junior Data Analyst',\n",
       "        'Junior Data Scientist', 'Junior Designer', 'Junior Developer',\n",
       "        'Junior Financial Advisor', 'Junior Financial Analyst',\n",
       "        'Junior HR Coordinator', 'Junior HR Generalist',\n",
       "        'Junior Marketing Analyst', 'Junior Marketing Coordinator',\n",
       "        'Junior Marketing Manager', 'Junior Marketing Specialist',\n",
       "        'Junior Operations Analyst', 'Junior Operations Coordinator',\n",
       "        'Junior Operations Manager', 'Junior Product Manager',\n",
       "        'Junior Project Manager', 'Junior Recruiter',\n",
       "        'Junior Research Scientist', 'Junior Sales Representative',\n",
       "        'Junior Social Media Manager', 'Junior Social Media Specialist',\n",
       "        'Junior Software Developer', 'Junior Software Engineer',\n",
       "        'Junior UX Designer', 'Junior Web Designer',\n",
       "        'Junior Web Developer', 'Marketing Analyst',\n",
       "        'Marketing Coordinator', 'Marketing Manager',\n",
       "        'Marketing Specialist', 'Network Engineer', 'Office Manager',\n",
       "        'Operations Analyst', 'Operations Director', 'Operations Manager',\n",
       "        'Principal Engineer', 'Principal Scientist', 'Product Designer',\n",
       "        'Product Manager', 'Product Marketing Manager', 'Project Engineer',\n",
       "        'Project Manager', 'Public Relations Manager', 'Recruiter',\n",
       "        'Research Director', 'Research Scientist', 'Sales Associate',\n",
       "        'Sales Director', 'Sales Executive', 'Sales Manager',\n",
       "        'Sales Operations Manager', 'Sales Representative',\n",
       "        'Senior Account Executive', 'Senior Account Manager',\n",
       "        'Senior Accountant', 'Senior Business Analyst',\n",
       "        'Senior Business Development Manager', 'Senior Consultant',\n",
       "        'Senior Data Analyst', 'Senior Data Engineer',\n",
       "        'Senior Data Scientist', 'Senior Engineer',\n",
       "        'Senior Financial Advisor', 'Senior Financial Analyst',\n",
       "        'Senior Financial Manager', 'Senior Graphic Designer',\n",
       "        'Senior HR Generalist', 'Senior HR Manager',\n",
       "        'Senior HR Specialist', 'Senior Human Resources Coordinator',\n",
       "        'Senior Human Resources Manager',\n",
       "        'Senior Human Resources Specialist', 'Senior IT Consultant',\n",
       "        'Senior IT Project Manager', 'Senior IT Support Specialist',\n",
       "        'Senior Manager', 'Senior Marketing Analyst',\n",
       "        'Senior Marketing Coordinator', 'Senior Marketing Director',\n",
       "        'Senior Marketing Manager', 'Senior Marketing Specialist',\n",
       "        'Senior Operations Analyst', 'Senior Operations Coordinator',\n",
       "        'Senior Operations Manager', 'Senior Product Designer',\n",
       "        'Senior Product Development Manager', 'Senior Product Manager',\n",
       "        'Senior Product Marketing Manager', 'Senior Project Coordinator',\n",
       "        'Senior Project Manager', 'Senior Quality Assurance Analyst',\n",
       "        'Senior Research Scientist', 'Senior Researcher',\n",
       "        'Senior Sales Manager', 'Senior Sales Representative',\n",
       "        'Senior Scientist', 'Senior Software Architect',\n",
       "        'Senior Software Developer', 'Senior Software Engineer',\n",
       "        'Senior Training Specialist', 'Senior UX Designer',\n",
       "        'Social Media Manager', 'Social Media Specialist',\n",
       "        'Software Developer', 'Software Engineer', 'Software Manager',\n",
       "        'Software Project Manager', 'Strategy Consultant',\n",
       "        'Supply Chain Analyst', 'Supply Chain Manager',\n",
       "        'Technical Recruiter', 'Technical Support Specialist',\n",
       "        'Technical Writer', 'Training Specialist', 'UX Designer',\n",
       "        'UX Researcher', 'VP of Finance', 'VP of Operations',\n",
       "        'Web Developer'], dtype=object),\n",
       " array(['Female', 'Male'], dtype=object)]"
      ]
     },
     "execution_count": 1706,
     "metadata": {},
     "output_type": "execute_result"
    }
   ],
   "source": [
    "\n",
    "encoder = OneHotEncoder(handle_unknown='ignore', sparse_output=False,dtype='int')\n",
    "\n",
    "encoded_cols = [\"Age\", \"Education Level\", \"Job Title\",\"Gender\"]\n",
    "encoder.fit(salary_data[encoded_cols])\n",
    "\n",
    "\n",
    "encoded_data = encoder.transform(salary_data[encoded_cols])\n",
    "encoded_df = DataFrame(encoded_data, columns=encoder.get_feature_names_out(encoded_cols),dtype=int)\n",
    "\n",
    "encoded_df = encoded_df.astype(int)\n",
    "\n",
    "salary_data = concat([\n",
    "    salary_data.drop(columns=encoded_cols).reset_index(drop=True),\n",
    "    encoded_df.reset_index(drop=True)\n",
    "], axis=1)\n",
    "dump(encoder, 'encoder.pkl')\n",
    "\n",
    "encoder.categories_"
   ]
  },
  {
   "cell_type": "code",
   "execution_count": 1707,
   "id": "dd3c9acb",
   "metadata": {},
   "outputs": [
    {
     "data": {
      "text/plain": [
       "array([[0.2 , 0.  , 0.  , ..., 0.  , 0.  , 1.  ],\n",
       "       [0.12, 0.  , 0.  , ..., 0.  , 1.  , 0.  ],\n",
       "       [0.6 , 0.  , 0.  , ..., 0.  , 0.  , 1.  ],\n",
       "       ...,\n",
       "       [0.08, 0.  , 0.  , ..., 0.  , 1.  , 0.  ],\n",
       "       [0.28, 0.  , 0.  , ..., 0.  , 0.  , 1.  ],\n",
       "       [0.6 , 0.  , 0.  , ..., 0.  , 1.  , 0.  ]])"
      ]
     },
     "execution_count": 1707,
     "metadata": {},
     "output_type": "execute_result"
    }
   ],
   "source": [
    "scaler_pca = MinMaxScaler()\n",
    "salary_data = scaler_pca.fit_transform(salary_data.values)\n",
    "salary_data"
   ]
  },
  {
   "cell_type": "code",
   "execution_count": 1708,
   "id": "09f15a26",
   "metadata": {},
   "outputs": [],
   "source": [
    "train_salary_data, test_salary_data,train_target_salary_data,test_target_salary_data = train_test_split(salary_data, target_salary_data, test_size=0.2, random_state=42)"
   ]
  },
  {
   "cell_type": "code",
   "execution_count": null,
   "id": "107e9a7f",
   "metadata": {},
   "outputs": [],
   "source": []
  },
  {
   "cell_type": "code",
   "execution_count": null,
   "id": "dcbfd3c8",
   "metadata": {},
   "outputs": [],
   "source": []
  },
  {
   "cell_type": "code",
   "execution_count": 1709,
   "id": "8c983793",
   "metadata": {},
   "outputs": [
    {
     "name": "stdout",
     "output_type": "stream",
     "text": [
      "Optimal number of components (k) for 95% variance: 118\n"
     ]
    },
    {
     "data": {
      "text/plain": [
       "['pca_model.pkl']"
      ]
     },
     "execution_count": 1709,
     "metadata": {},
     "output_type": "execute_result"
    }
   ],
   "source": [
    "pca = PCA(n_components=211)\n",
    "\n",
    "pca.fit(train_salary_data)\n",
    "explained_variance_ratio = pca.explained_variance_ratio_\n",
    "cumulative_variance = cumsum(explained_variance_ratio)\n",
    "optimal_k = argmax(cumulative_variance >= 0.95) + 1\n",
    "print(f\"Optimal number of components (k) for 95% variance: {optimal_k}\")\n",
    "pca = PCA(n_components=optimal_k)\n",
    "pca_train_salary_data = pca.fit_transform(train_salary_data)\n",
    "pca_train_salary_data.shape\n",
    "\n",
    "dump(pca, 'pca_model.pkl')\n"
   ]
  },
  {
   "cell_type": "code",
   "execution_count": 1710,
   "id": "be222a98",
   "metadata": {},
   "outputs": [
    {
     "name": "stderr",
     "output_type": "stream",
     "text": [
      "/var/folders/zw/wpbmbv6s62vc85qfn9szsqgm0000gn/T/ipykernel_77480/2897067571.py:7: UserWarning: No data for colormapping provided via 'c'. Parameters 'cmap' will be ignored\n",
      "  ax.scatter3D(\n",
      "/var/folders/zw/wpbmbv6s62vc85qfn9szsqgm0000gn/T/ipykernel_77480/2897067571.py:19: UserWarning: FigureCanvasAgg is non-interactive, and thus cannot be shown\n",
      "  fig.show()\n"
     ]
    },
    {
     "data": {
      "image/png": "[encoded data removed]",
      "text/plain": [
       "<Figure size 640x480 with 1 Axes>"
      ]
     },
     "metadata": {},
     "output_type": "display_data"
    }
   ],
   "source": [
    "from seaborn import scatterplot\n",
    "from matplotlib.pyplot import figure, show\n",
    "\n",
    "fig = figure()\n",
    "ax = fig.add_subplot(projection='3d')\n",
    "\n",
    "ax.scatter3D(\n",
    "    pca_train_salary_data[:, 0],\n",
    "    pca_train_salary_data[:, 1],\n",
    "    pca_train_salary_data[:, 2],\n",
    "    cmap='viridis',\n",
    "    alpha=0.5\n",
    ")\n",
    "ax.set_xlabel('PCA Component 1')\n",
    "ax.set_ylabel('PCA Component 2')\n",
    "ax.set_zlabel('PCA Component 3')\n",
    "ax.set_title('3D PCA Visualization of Salary Data')\n",
    "ax.view_init(elev=20, azim=30)\n",
    "fig.show()\n",
    "\n",
    "\n"
   ]
  },
  {
   "cell_type": "code",
   "execution_count": 1711,
   "id": "d3b5cafd",
   "metadata": {},
   "outputs": [
    {
     "name": "stderr",
     "output_type": "stream",
     "text": [
      "/Users/fastasturtle/Documents/MTech/Assignment/ML/.venv/lib/python3.9/site-packages/keras/src/layers/core/dense.py:87: UserWarning: Do not pass an `input_shape`/`input_dim` argument to a layer. When using Sequential models, prefer using an `Input(shape)` object as the first layer in the model instead.\n",
      "  super().__init__(activity_regularizer=activity_regularizer, **kwargs)\n"
     ]
    }
   ],
   "source": [
    "model = Sequential(\n",
    "    [\n",
    "        Dense(147, input_shape=(pca_train_salary_data.shape[1],),activation = \"relu\"),\n",
    "        Dense(45, activation=\"relu\"),\n",
    "        Dense(6, activation=\"relu\"),\n",
    "        Dense(1, activation=\"relu\"),\n",
    "    ]\n",
    ")"
   ]
  },
  {
   "cell_type": "code",
   "execution_count": 1712,
   "id": "0dd47628",
   "metadata": {},
   "outputs": [],
   "source": [
    "model.compile(loss = Huber(delta=0.05), optimizer=\"adam\", metrics=[\"mean_absolute_error\"])"
   ]
  },
  {
   "cell_type": "code",
   "execution_count": 1713,
   "id": "960570a0",
   "metadata": {},
   "outputs": [
    {
     "data": {
      "text/html": [
       "<pre style=\"white-space:pre;overflow-x:auto;line-height:normal;font-family:Menlo,'DejaVu Sans Mono',consolas,'Courier New',monospace\"><span style=\"font-weight: bold\">Model: \"sequential_86\"</span>\n",
       "</pre>\n"
      ],
      "text/plain": [
       "\u001b[1mModel: \"sequential_86\"\u001b[0m\n"
      ]
     },
     "metadata": {},
     "output_type": "display_data"
    },
    {
     "data": {
      "text/html": [
       "<pre style=\"white-space:pre;overflow-x:auto;line-height:normal;font-family:Menlo,'DejaVu Sans Mono',consolas,'Courier New',monospace\">┏━━━━━━━━━━━━━━━━━━━━━━━━━━━━━━━━━┳━━━━━━━━━━━━━━━━━━━━━━━━┳━━━━━━━━━━━━━━━┓\n",
       "┃<span style=\"font-weight: bold\"> Layer (type)                    </span>┃<span style=\"font-weight: bold\"> Output Shape           </span>┃<span style=\"font-weight: bold\">       Param # </span>┃\n",
       "┡━━━━━━━━━━━━━━━━━━━━━━━━━━━━━━━━━╇━━━━━━━━━━━━━━━━━━━━━━━━╇━━━━━━━━━━━━━━━┩\n",
       "│ dense_377 (<span style=\"color: #0087ff; text-decoration-color: #0087ff\">Dense</span>)               │ (<span style=\"color: #00d7ff; text-decoration-color: #00d7ff\">None</span>, <span style=\"color: #00af00; text-decoration-color: #00af00\">147</span>)            │        <span style=\"color: #00af00; text-decoration-color: #00af00\">17,493</span> │\n",
       "├─────────────────────────────────┼────────────────────────┼───────────────┤\n",
       "│ dense_378 (<span style=\"color: #0087ff; text-decoration-color: #0087ff\">Dense</span>)               │ (<span style=\"color: #00d7ff; text-decoration-color: #00d7ff\">None</span>, <span style=\"color: #00af00; text-decoration-color: #00af00\">45</span>)             │         <span style=\"color: #00af00; text-decoration-color: #00af00\">6,660</span> │\n",
       "├─────────────────────────────────┼────────────────────────┼───────────────┤\n",
       "│ dense_379 (<span style=\"color: #0087ff; text-decoration-color: #0087ff\">Dense</span>)               │ (<span style=\"color: #00d7ff; text-decoration-color: #00d7ff\">None</span>, <span style=\"color: #00af00; text-decoration-color: #00af00\">6</span>)              │           <span style=\"color: #00af00; text-decoration-color: #00af00\">276</span> │\n",
       "├─────────────────────────────────┼────────────────────────┼───────────────┤\n",
       "│ dense_380 (<span style=\"color: #0087ff; text-decoration-color: #0087ff\">Dense</span>)               │ (<span style=\"color: #00d7ff; text-decoration-color: #00d7ff\">None</span>, <span style=\"color: #00af00; text-decoration-color: #00af00\">1</span>)              │             <span style=\"color: #00af00; text-decoration-color: #00af00\">7</span> │\n",
       "└─────────────────────────────────┴────────────────────────┴───────────────┘\n",
       "</pre>\n"
      ],
      "text/plain": [
       "┏━━━━━━━━━━━━━━━━━━━━━━━━━━━━━━━━━┳━━━━━━━━━━━━━━━━━━━━━━━━┳━━━━━━━━━━━━━━━┓\n",
       "┃\u001b[1m \u001b[0m\u001b[1mLayer (type)                   \u001b[0m\u001b[1m \u001b[0m┃\u001b[1m \u001b[0m\u001b[1mOutput Shape          \u001b[0m\u001b[1m \u001b[0m┃\u001b[1m \u001b[0m\u001b[1m      Param #\u001b[0m\u001b[1m \u001b[0m┃\n",
       "┡━━━━━━━━━━━━━━━━━━━━━━━━━━━━━━━━━╇━━━━━━━━━━━━━━━━━━━━━━━━╇━━━━━━━━━━━━━━━┩\n",
       "│ dense_377 (\u001b[38;5;33mDense\u001b[0m)               │ (\u001b[38;5;45mNone\u001b[0m, \u001b[38;5;34m147\u001b[0m)            │        \u001b[38;5;34m17,493\u001b[0m │\n",
       "├─────────────────────────────────┼────────────────────────┼───────────────┤\n",
       "│ dense_378 (\u001b[38;5;33mDense\u001b[0m)               │ (\u001b[38;5;45mNone\u001b[0m, \u001b[38;5;34m45\u001b[0m)             │         \u001b[38;5;34m6,660\u001b[0m │\n",
       "├─────────────────────────────────┼────────────────────────┼───────────────┤\n",
       "│ dense_379 (\u001b[38;5;33mDense\u001b[0m)               │ (\u001b[38;5;45mNone\u001b[0m, \u001b[38;5;34m6\u001b[0m)              │           \u001b[38;5;34m276\u001b[0m │\n",
       "├─────────────────────────────────┼────────────────────────┼───────────────┤\n",
       "│ dense_380 (\u001b[38;5;33mDense\u001b[0m)               │ (\u001b[38;5;45mNone\u001b[0m, \u001b[38;5;34m1\u001b[0m)              │             \u001b[38;5;34m7\u001b[0m │\n",
       "└─────────────────────────────────┴────────────────────────┴───────────────┘\n"
      ]
     },
     "metadata": {},
     "output_type": "display_data"
    },
    {
     "data": {
      "text/html": [
       "<pre style=\"white-space:pre;overflow-x:auto;line-height:normal;font-family:Menlo,'DejaVu Sans Mono',consolas,'Courier New',monospace\"><span style=\"font-weight: bold\"> Total params: </span><span style=\"color: #00af00; text-decoration-color: #00af00\">24,436</span> (95.45 KB)\n",
       "</pre>\n"
      ],
      "text/plain": [
       "\u001b[1m Total params: \u001b[0m\u001b[38;5;34m24,436\u001b[0m (95.45 KB)\n"
      ]
     },
     "metadata": {},
     "output_type": "display_data"
    },
    {
     "data": {
      "text/html": [
       "<pre style=\"white-space:pre;overflow-x:auto;line-height:normal;font-family:Menlo,'DejaVu Sans Mono',consolas,'Courier New',monospace\"><span style=\"font-weight: bold\"> Trainable params: </span><span style=\"color: #00af00; text-decoration-color: #00af00\">24,436</span> (95.45 KB)\n",
       "</pre>\n"
      ],
      "text/plain": [
       "\u001b[1m Trainable params: \u001b[0m\u001b[38;5;34m24,436\u001b[0m (95.45 KB)\n"
      ]
     },
     "metadata": {},
     "output_type": "display_data"
    },
    {
     "data": {
      "text/html": [
       "<pre style=\"white-space:pre;overflow-x:auto;line-height:normal;font-family:Menlo,'DejaVu Sans Mono',consolas,'Courier New',monospace\"><span style=\"font-weight: bold\"> Non-trainable params: </span><span style=\"color: #00af00; text-decoration-color: #00af00\">0</span> (0.00 B)\n",
       "</pre>\n"
      ],
      "text/plain": [
       "\u001b[1m Non-trainable params: \u001b[0m\u001b[38;5;34m0\u001b[0m (0.00 B)\n"
      ]
     },
     "metadata": {},
     "output_type": "display_data"
    }
   ],
   "source": [
    "model.summary()"
   ]
  },
  {
   "cell_type": "code",
   "execution_count": 1714,
   "id": "11af7131",
   "metadata": {},
   "outputs": [
    {
     "data": {
      "text/plain": [
       "(298, 211)"
      ]
     },
     "execution_count": 1714,
     "metadata": {},
     "output_type": "execute_result"
    }
   ],
   "source": [
    "train_salary_data.shape"
   ]
  },
  {
   "cell_type": "code",
   "execution_count": 1715,
   "id": "d28590f1",
   "metadata": {},
   "outputs": [
    {
     "name": "stdout",
     "output_type": "stream",
     "text": [
      "Epoch 1/100\n",
      "\u001b[1m9/9\u001b[0m \u001b[32m━━━━━━━━━━━━━━━━━━━━\u001b[0m\u001b[37m\u001b[0m \u001b[1m2s\u001b[0m 30ms/step - loss: 0.0150 - mean_absolute_error: 0.3243 - val_loss: 0.0073 - val_mean_absolute_error: 0.1691\n",
      "Epoch 2/100\n",
      "\u001b[1m9/9\u001b[0m \u001b[32m━━━━━━━━━━━━━━━━━━━━\u001b[0m\u001b[37m\u001b[0m \u001b[1m0s\u001b[0m 7ms/step - loss: 0.0059 - mean_absolute_error: 0.1407 - val_loss: 0.0051 - val_mean_absolute_error: 0.1246\n",
      "Epoch 3/100\n",
      "\u001b[1m9/9\u001b[0m \u001b[32m━━━━━━━━━━━━━━━━━━━━\u001b[0m\u001b[37m\u001b[0m \u001b[1m0s\u001b[0m 6ms/step - loss: 0.0044 - mean_absolute_error: 0.1104 - val_loss: 0.0029 - val_mean_absolute_error: 0.0804\n",
      "Epoch 4/100\n",
      "\u001b[1m9/9\u001b[0m \u001b[32m━━━━━━━━━━━━━━━━━━━━\u001b[0m\u001b[37m\u001b[0m \u001b[1m0s\u001b[0m 8ms/step - loss: 0.0026 - mean_absolute_error: 0.0744 - val_loss: 0.0019 - val_mean_absolute_error: 0.0588\n",
      "Epoch 5/100\n",
      "\u001b[1m9/9\u001b[0m \u001b[32m━━━━━━━━━━━━━━━━━━━━\u001b[0m\u001b[37m\u001b[0m \u001b[1m0s\u001b[0m 5ms/step - loss: 0.0018 - mean_absolute_error: 0.0554 - val_loss: 0.0015 - val_mean_absolute_error: 0.0493\n",
      "Epoch 6/100\n",
      "\u001b[1m9/9\u001b[0m \u001b[32m━━━━━━━━━━━━━━━━━━━━\u001b[0m\u001b[37m\u001b[0m \u001b[1m0s\u001b[0m 8ms/step - loss: 0.0012 - mean_absolute_error: 0.0401 - val_loss: 0.0013 - val_mean_absolute_error: 0.0448\n",
      "Epoch 7/100\n",
      "\u001b[1m9/9\u001b[0m \u001b[32m━━━━━━━━━━━━━━━━━━━━\u001b[0m\u001b[37m\u001b[0m \u001b[1m0s\u001b[0m 6ms/step - loss: 8.2772e-04 - mean_absolute_error: 0.0312 - val_loss: 0.0011 - val_mean_absolute_error: 0.0408\n",
      "Epoch 8/100\n",
      "\u001b[1m9/9\u001b[0m \u001b[32m━━━━━━━━━━━━━━━━━━━━\u001b[0m\u001b[37m\u001b[0m \u001b[1m0s\u001b[0m 6ms/step - loss: 5.1505e-04 - mean_absolute_error: 0.0237 - val_loss: 0.0012 - val_mean_absolute_error: 0.0413\n",
      "Epoch 9/100\n",
      "\u001b[1m9/9\u001b[0m \u001b[32m━━━━━━━━━━━━━━━━━━━━\u001b[0m\u001b[37m\u001b[0m \u001b[1m0s\u001b[0m 5ms/step - loss: 4.3187e-04 - mean_absolute_error: 0.0207 - val_loss: 0.0010 - val_mean_absolute_error: 0.0378\n",
      "Epoch 10/100\n",
      "\u001b[1m9/9\u001b[0m \u001b[32m━━━━━━━━━━━━━━━━━━━━\u001b[0m\u001b[37m\u001b[0m \u001b[1m0s\u001b[0m 5ms/step - loss: 2.5214e-04 - mean_absolute_error: 0.0149 - val_loss: 0.0010 - val_mean_absolute_error: 0.0376\n",
      "Epoch 11/100\n",
      "\u001b[1m9/9\u001b[0m \u001b[32m━━━━━━━━━━━━━━━━━━━━\u001b[0m\u001b[37m\u001b[0m \u001b[1m0s\u001b[0m 5ms/step - loss: 2.1448e-04 - mean_absolute_error: 0.0126 - val_loss: 9.8954e-04 - val_mean_absolute_error: 0.0360\n",
      "Epoch 12/100\n",
      "\u001b[1m9/9\u001b[0m \u001b[32m━━━━━━━━━━━━━━━━━━━━\u001b[0m\u001b[37m\u001b[0m \u001b[1m0s\u001b[0m 5ms/step - loss: 2.3211e-04 - mean_absolute_error: 0.0145 - val_loss: 0.0011 - val_mean_absolute_error: 0.0393\n",
      "Epoch 13/100\n",
      "\u001b[1m9/9\u001b[0m \u001b[32m━━━━━━━━━━━━━━━━━━━━\u001b[0m\u001b[37m\u001b[0m \u001b[1m0s\u001b[0m 5ms/step - loss: 1.6476e-04 - mean_absolute_error: 0.0129 - val_loss: 0.0010 - val_mean_absolute_error: 0.0360\n",
      "Epoch 14/100\n",
      "\u001b[1m9/9\u001b[0m \u001b[32m━━━━━━━━━━━━━━━━━━━━\u001b[0m\u001b[37m\u001b[0m \u001b[1m0s\u001b[0m 5ms/step - loss: 9.5678e-05 - mean_absolute_error: 0.0097 - val_loss: 0.0011 - val_mean_absolute_error: 0.0377\n",
      "Epoch 15/100\n",
      "\u001b[1m9/9\u001b[0m \u001b[32m━━━━━━━━━━━━━━━━━━━━\u001b[0m\u001b[37m\u001b[0m \u001b[1m0s\u001b[0m 7ms/step - loss: 1.1987e-04 - mean_absolute_error: 0.0112 - val_loss: 0.0010 - val_mean_absolute_error: 0.0364\n",
      "Epoch 16/100\n",
      "\u001b[1m9/9\u001b[0m \u001b[32m━━━━━━━━━━━━━━━━━━━━\u001b[0m\u001b[37m\u001b[0m \u001b[1m0s\u001b[0m 6ms/step - loss: 6.9813e-05 - mean_absolute_error: 0.0082 - val_loss: 0.0010 - val_mean_absolute_error: 0.0372\n",
      "Epoch 17/100\n",
      "\u001b[1m9/9\u001b[0m \u001b[32m━━━━━━━━━━━━━━━━━━━━\u001b[0m\u001b[37m\u001b[0m \u001b[1m0s\u001b[0m 4ms/step - loss: 5.6953e-05 - mean_absolute_error: 0.0067 - val_loss: 0.0010 - val_mean_absolute_error: 0.0365\n",
      "Epoch 18/100\n",
      "\u001b[1m9/9\u001b[0m \u001b[32m━━━━━━━━━━━━━━━━━━━━\u001b[0m\u001b[37m\u001b[0m \u001b[1m0s\u001b[0m 4ms/step - loss: 3.3620e-05 - mean_absolute_error: 0.0050 - val_loss: 0.0010 - val_mean_absolute_error: 0.0355\n",
      "Epoch 19/100\n",
      "\u001b[1m9/9\u001b[0m \u001b[32m━━━━━━━━━━━━━━━━━━━━\u001b[0m\u001b[37m\u001b[0m \u001b[1m0s\u001b[0m 5ms/step - loss: 5.2304e-05 - mean_absolute_error: 0.0049 - val_loss: 0.0010 - val_mean_absolute_error: 0.0361\n",
      "Epoch 20/100\n",
      "\u001b[1m9/9\u001b[0m \u001b[32m━━━━━━━━━━━━━━━━━━━━\u001b[0m\u001b[37m\u001b[0m \u001b[1m0s\u001b[0m 5ms/step - loss: 4.9226e-05 - mean_absolute_error: 0.0042 - val_loss: 0.0010 - val_mean_absolute_error: 0.0363\n",
      "Epoch 21/100\n",
      "\u001b[1m9/9\u001b[0m \u001b[32m━━━━━━━━━━━━━━━━━━━━\u001b[0m\u001b[37m\u001b[0m \u001b[1m0s\u001b[0m 4ms/step - loss: 4.3435e-05 - mean_absolute_error: 0.0033 - val_loss: 0.0010 - val_mean_absolute_error: 0.0358\n",
      "Epoch 22/100\n",
      "\u001b[1m9/9\u001b[0m \u001b[32m━━━━━━━━━━━━━━━━━━━━\u001b[0m\u001b[37m\u001b[0m \u001b[1m0s\u001b[0m 4ms/step - loss: 6.1197e-05 - mean_absolute_error: 0.0040 - val_loss: 0.0010 - val_mean_absolute_error: 0.0363\n",
      "Epoch 23/100\n",
      "\u001b[1m9/9\u001b[0m \u001b[32m━━━━━━━━━━━━━━━━━━━━\u001b[0m\u001b[37m\u001b[0m \u001b[1m0s\u001b[0m 4ms/step - loss: 4.0914e-05 - mean_absolute_error: 0.0030 - val_loss: 0.0010 - val_mean_absolute_error: 0.0363\n",
      "Epoch 24/100\n",
      "\u001b[1m9/9\u001b[0m \u001b[32m━━━━━━━━━━━━━━━━━━━━\u001b[0m\u001b[37m\u001b[0m \u001b[1m0s\u001b[0m 4ms/step - loss: 3.9193e-05 - mean_absolute_error: 0.0030 - val_loss: 0.0010 - val_mean_absolute_error: 0.0360\n",
      "Epoch 25/100\n",
      "\u001b[1m9/9\u001b[0m \u001b[32m━━━━━━━━━━━━━━━━━━━━\u001b[0m\u001b[37m\u001b[0m \u001b[1m0s\u001b[0m 5ms/step - loss: 3.1838e-05 - mean_absolute_error: 0.0027 - val_loss: 0.0010 - val_mean_absolute_error: 0.0358\n",
      "Epoch 26/100\n",
      "\u001b[1m9/9\u001b[0m \u001b[32m━━━━━━━━━━━━━━━━━━━━\u001b[0m\u001b[37m\u001b[0m \u001b[1m0s\u001b[0m 4ms/step - loss: 3.3190e-05 - mean_absolute_error: 0.0030 - val_loss: 0.0010 - val_mean_absolute_error: 0.0357\n",
      "Epoch 27/100\n",
      "\u001b[1m9/9\u001b[0m \u001b[32m━━━━━━━━━━━━━━━━━━━━\u001b[0m\u001b[37m\u001b[0m \u001b[1m0s\u001b[0m 4ms/step - loss: 3.4884e-05 - mean_absolute_error: 0.0029 - val_loss: 0.0010 - val_mean_absolute_error: 0.0364\n",
      "Epoch 28/100\n",
      "\u001b[1m9/9\u001b[0m \u001b[32m━━━━━━━━━━━━━━━━━━━━\u001b[0m\u001b[37m\u001b[0m \u001b[1m0s\u001b[0m 4ms/step - loss: 4.2993e-05 - mean_absolute_error: 0.0037 - val_loss: 0.0010 - val_mean_absolute_error: 0.0356\n",
      "Epoch 29/100\n",
      "\u001b[1m9/9\u001b[0m \u001b[32m━━━━━━━━━━━━━━━━━━━━\u001b[0m\u001b[37m\u001b[0m \u001b[1m0s\u001b[0m 3ms/step - loss: 3.0625e-05 - mean_absolute_error: 0.0034 - val_loss: 0.0010 - val_mean_absolute_error: 0.0370\n",
      "Epoch 30/100\n",
      "\u001b[1m9/9\u001b[0m \u001b[32m━━━━━━━━━━━━━━━━━━━━\u001b[0m\u001b[37m\u001b[0m \u001b[1m0s\u001b[0m 4ms/step - loss: 5.4953e-05 - mean_absolute_error: 0.0051 - val_loss: 0.0010 - val_mean_absolute_error: 0.0363\n",
      "Epoch 31/100\n",
      "\u001b[1m9/9\u001b[0m \u001b[32m━━━━━━━━━━━━━━━━━━━━\u001b[0m\u001b[37m\u001b[0m \u001b[1m0s\u001b[0m 4ms/step - loss: 5.7228e-05 - mean_absolute_error: 0.0046 - val_loss: 0.0010 - val_mean_absolute_error: 0.0357\n",
      "Epoch 32/100\n",
      "\u001b[1m9/9\u001b[0m \u001b[32m━━━━━━━━━━━━━━━━━━━━\u001b[0m\u001b[37m\u001b[0m \u001b[1m0s\u001b[0m 4ms/step - loss: 5.7063e-05 - mean_absolute_error: 0.0050 - val_loss: 0.0010 - val_mean_absolute_error: 0.0367\n",
      "Epoch 33/100\n",
      "\u001b[1m9/9\u001b[0m \u001b[32m━━━━━━━━━━━━━━━━━━━━\u001b[0m\u001b[37m\u001b[0m \u001b[1m0s\u001b[0m 4ms/step - loss: 4.7150e-05 - mean_absolute_error: 0.0048 - val_loss: 0.0010 - val_mean_absolute_error: 0.0366\n",
      "Epoch 34/100\n",
      "\u001b[1m9/9\u001b[0m \u001b[32m━━━━━━━━━━━━━━━━━━━━\u001b[0m\u001b[37m\u001b[0m \u001b[1m0s\u001b[0m 4ms/step - loss: 4.6888e-05 - mean_absolute_error: 0.0043 - val_loss: 0.0010 - val_mean_absolute_error: 0.0357\n",
      "Epoch 35/100\n",
      "\u001b[1m9/9\u001b[0m \u001b[32m━━━━━━━━━━━━━━━━━━━━\u001b[0m\u001b[37m\u001b[0m \u001b[1m0s\u001b[0m 4ms/step - loss: 6.0770e-05 - mean_absolute_error: 0.0046 - val_loss: 0.0010 - val_mean_absolute_error: 0.0364\n",
      "Epoch 36/100\n",
      "\u001b[1m9/9\u001b[0m \u001b[32m━━━━━━━━━━━━━━━━━━━━\u001b[0m\u001b[37m\u001b[0m \u001b[1m0s\u001b[0m 4ms/step - loss: 6.9352e-05 - mean_absolute_error: 0.0064 - val_loss: 0.0011 - val_mean_absolute_error: 0.0383\n",
      "Epoch 37/100\n",
      "\u001b[1m9/9\u001b[0m \u001b[32m━━━━━━━━━━━━━━━━━━━━\u001b[0m\u001b[37m\u001b[0m \u001b[1m0s\u001b[0m 3ms/step - loss: 6.5137e-05 - mean_absolute_error: 0.0059 - val_loss: 0.0010 - val_mean_absolute_error: 0.0364\n",
      "Epoch 38/100\n",
      "\u001b[1m9/9\u001b[0m \u001b[32m━━━━━━━━━━━━━━━━━━━━\u001b[0m\u001b[37m\u001b[0m \u001b[1m0s\u001b[0m 4ms/step - loss: 3.9890e-05 - mean_absolute_error: 0.0049 - val_loss: 0.0011 - val_mean_absolute_error: 0.0381\n",
      "Epoch 39/100\n",
      "\u001b[1m9/9\u001b[0m \u001b[32m━━━━━━━━━━━━━━━━━━━━\u001b[0m\u001b[37m\u001b[0m \u001b[1m0s\u001b[0m 4ms/step - loss: 5.9599e-05 - mean_absolute_error: 0.0058 - val_loss: 0.0011 - val_mean_absolute_error: 0.0371\n",
      "Epoch 40/100\n",
      "\u001b[1m9/9\u001b[0m \u001b[32m━━━━━━━━━━━━━━━━━━━━\u001b[0m\u001b[37m\u001b[0m \u001b[1m0s\u001b[0m 4ms/step - loss: 4.0406e-05 - mean_absolute_error: 0.0055 - val_loss: 0.0011 - val_mean_absolute_error: 0.0388\n",
      "Epoch 41/100\n",
      "\u001b[1m9/9\u001b[0m \u001b[32m━━━━━━━━━━━━━━━━━━━━\u001b[0m\u001b[37m\u001b[0m \u001b[1m0s\u001b[0m 3ms/step - loss: 5.6786e-05 - mean_absolute_error: 0.0060 - val_loss: 0.0011 - val_mean_absolute_error: 0.0376\n",
      "Epoch 42/100\n",
      "\u001b[1m9/9\u001b[0m \u001b[32m━━━━━━━━━━━━━━━━━━━━\u001b[0m\u001b[37m\u001b[0m \u001b[1m0s\u001b[0m 3ms/step - loss: 7.8085e-05 - mean_absolute_error: 0.0065 - val_loss: 0.0011 - val_mean_absolute_error: 0.0377\n",
      "Epoch 43/100\n",
      "\u001b[1m9/9\u001b[0m \u001b[32m━━━━━━━━━━━━━━━━━━━━\u001b[0m\u001b[37m\u001b[0m \u001b[1m0s\u001b[0m 3ms/step - loss: 4.3756e-05 - mean_absolute_error: 0.0050 - val_loss: 0.0011 - val_mean_absolute_error: 0.0382\n",
      "Epoch 44/100\n",
      "\u001b[1m9/9\u001b[0m \u001b[32m━━━━━━━━━━━━━━━━━━━━\u001b[0m\u001b[37m\u001b[0m \u001b[1m0s\u001b[0m 4ms/step - loss: 6.1647e-05 - mean_absolute_error: 0.0054 - val_loss: 0.0011 - val_mean_absolute_error: 0.0377\n",
      "Epoch 45/100\n",
      "\u001b[1m9/9\u001b[0m \u001b[32m━━━━━━━━━━━━━━━━━━━━\u001b[0m\u001b[37m\u001b[0m \u001b[1m0s\u001b[0m 4ms/step - loss: 4.4197e-05 - mean_absolute_error: 0.0050 - val_loss: 0.0011 - val_mean_absolute_error: 0.0378\n",
      "Epoch 46/100\n",
      "\u001b[1m9/9\u001b[0m \u001b[32m━━━━━━━━━━━━━━━━━━━━\u001b[0m\u001b[37m\u001b[0m \u001b[1m0s\u001b[0m 4ms/step - loss: 4.0788e-05 - mean_absolute_error: 0.0048 - val_loss: 0.0011 - val_mean_absolute_error: 0.0374\n",
      "Epoch 47/100\n",
      "\u001b[1m9/9\u001b[0m \u001b[32m━━━━━━━━━━━━━━━━━━━━\u001b[0m\u001b[37m\u001b[0m \u001b[1m0s\u001b[0m 4ms/step - loss: 3.3078e-05 - mean_absolute_error: 0.0044 - val_loss: 0.0011 - val_mean_absolute_error: 0.0380\n",
      "Epoch 48/100\n",
      "\u001b[1m9/9\u001b[0m \u001b[32m━━━━━━━━━━━━━━━━━━━━\u001b[0m\u001b[37m\u001b[0m \u001b[1m0s\u001b[0m 4ms/step - loss: 4.5539e-05 - mean_absolute_error: 0.0048 - val_loss: 0.0011 - val_mean_absolute_error: 0.0379\n",
      "Epoch 49/100\n",
      "\u001b[1m9/9\u001b[0m \u001b[32m━━━━━━━━━━━━━━━━━━━━\u001b[0m\u001b[37m\u001b[0m \u001b[1m0s\u001b[0m 4ms/step - loss: 6.3778e-05 - mean_absolute_error: 0.0066 - val_loss: 0.0011 - val_mean_absolute_error: 0.0370\n",
      "Epoch 50/100\n",
      "\u001b[1m9/9\u001b[0m \u001b[32m━━━━━━━━━━━━━━━━━━━━\u001b[0m\u001b[37m\u001b[0m \u001b[1m0s\u001b[0m 4ms/step - loss: 6.2007e-05 - mean_absolute_error: 0.0072 - val_loss: 0.0011 - val_mean_absolute_error: 0.0387\n",
      "Epoch 51/100\n",
      "\u001b[1m9/9\u001b[0m \u001b[32m━━━━━━━━━━━━━━━━━━━━\u001b[0m\u001b[37m\u001b[0m \u001b[1m0s\u001b[0m 4ms/step - loss: 7.2144e-05 - mean_absolute_error: 0.0082 - val_loss: 0.0011 - val_mean_absolute_error: 0.0392\n",
      "Epoch 52/100\n",
      "\u001b[1m9/9\u001b[0m \u001b[32m━━━━━━━━━━━━━━━━━━━━\u001b[0m\u001b[37m\u001b[0m \u001b[1m0s\u001b[0m 4ms/step - loss: 9.3513e-05 - mean_absolute_error: 0.0089 - val_loss: 0.0011 - val_mean_absolute_error: 0.0393\n",
      "Epoch 53/100\n",
      "\u001b[1m9/9\u001b[0m \u001b[32m━━━━━━━━━━━━━━━━━━━━\u001b[0m\u001b[37m\u001b[0m \u001b[1m0s\u001b[0m 4ms/step - loss: 9.0436e-05 - mean_absolute_error: 0.0094 - val_loss: 0.0011 - val_mean_absolute_error: 0.0379\n",
      "Epoch 54/100\n",
      "\u001b[1m9/9\u001b[0m \u001b[32m━━━━━━━━━━━━━━━━━━━━\u001b[0m\u001b[37m\u001b[0m \u001b[1m0s\u001b[0m 4ms/step - loss: 6.4559e-05 - mean_absolute_error: 0.0085 - val_loss: 0.0011 - val_mean_absolute_error: 0.0381\n",
      "Epoch 55/100\n",
      "\u001b[1m9/9\u001b[0m \u001b[32m━━━━━━━━━━━━━━━━━━━━\u001b[0m\u001b[37m\u001b[0m \u001b[1m0s\u001b[0m 5ms/step - loss: 6.3406e-05 - mean_absolute_error: 0.0071 - val_loss: 0.0011 - val_mean_absolute_error: 0.0378\n",
      "Epoch 56/100\n",
      "\u001b[1m9/9\u001b[0m \u001b[32m━━━━━━━━━━━━━━━━━━━━\u001b[0m\u001b[37m\u001b[0m \u001b[1m0s\u001b[0m 5ms/step - loss: 7.7414e-05 - mean_absolute_error: 0.0077 - val_loss: 0.0010 - val_mean_absolute_error: 0.0363\n",
      "Epoch 57/100\n",
      "\u001b[1m9/9\u001b[0m \u001b[32m━━━━━━━━━━━━━━━━━━━━\u001b[0m\u001b[37m\u001b[0m \u001b[1m0s\u001b[0m 6ms/step - loss: 8.8797e-05 - mean_absolute_error: 0.0092 - val_loss: 0.0012 - val_mean_absolute_error: 0.0398\n",
      "Epoch 58/100\n",
      "\u001b[1m9/9\u001b[0m \u001b[32m━━━━━━━━━━━━━━━━━━━━\u001b[0m\u001b[37m\u001b[0m \u001b[1m0s\u001b[0m 4ms/step - loss: 9.1422e-05 - mean_absolute_error: 0.0093 - val_loss: 0.0011 - val_mean_absolute_error: 0.0373\n",
      "Epoch 59/100\n",
      "\u001b[1m9/9\u001b[0m \u001b[32m━━━━━━━━━━━━━━━━━━━━\u001b[0m\u001b[37m\u001b[0m \u001b[1m0s\u001b[0m 4ms/step - loss: 7.9932e-05 - mean_absolute_error: 0.0090 - val_loss: 0.0011 - val_mean_absolute_error: 0.0389\n",
      "Epoch 60/100\n",
      "\u001b[1m9/9\u001b[0m \u001b[32m━━━━━━━━━━━━━━━━━━━━\u001b[0m\u001b[37m\u001b[0m \u001b[1m0s\u001b[0m 4ms/step - loss: 8.4169e-05 - mean_absolute_error: 0.0092 - val_loss: 9.8894e-04 - val_mean_absolute_error: 0.0356\n",
      "Epoch 61/100\n",
      "\u001b[1m9/9\u001b[0m \u001b[32m━━━━━━━━━━━━━━━━━━━━\u001b[0m\u001b[37m\u001b[0m \u001b[1m0s\u001b[0m 4ms/step - loss: 7.6892e-05 - mean_absolute_error: 0.0082 - val_loss: 0.0011 - val_mean_absolute_error: 0.0370\n",
      "Epoch 62/100\n",
      "\u001b[1m9/9\u001b[0m \u001b[32m━━━━━━━━━━━━━━━━━━━━\u001b[0m\u001b[37m\u001b[0m \u001b[1m0s\u001b[0m 4ms/step - loss: 5.9123e-05 - mean_absolute_error: 0.0063 - val_loss: 0.0010 - val_mean_absolute_error: 0.0364\n",
      "Epoch 63/100\n",
      "\u001b[1m9/9\u001b[0m \u001b[32m━━━━━━━━━━━━━━━━━━━━\u001b[0m\u001b[37m\u001b[0m \u001b[1m0s\u001b[0m 4ms/step - loss: 6.9486e-05 - mean_absolute_error: 0.0066 - val_loss: 0.0011 - val_mean_absolute_error: 0.0387\n",
      "Epoch 64/100\n",
      "\u001b[1m9/9\u001b[0m \u001b[32m━━━━━━━━━━━━━━━━━━━━\u001b[0m\u001b[37m\u001b[0m \u001b[1m0s\u001b[0m 3ms/step - loss: 4.8147e-05 - mean_absolute_error: 0.0062 - val_loss: 0.0011 - val_mean_absolute_error: 0.0366\n",
      "Epoch 65/100\n",
      "\u001b[1m9/9\u001b[0m \u001b[32m━━━━━━━━━━━━━━━━━━━━\u001b[0m\u001b[37m\u001b[0m \u001b[1m0s\u001b[0m 4ms/step - loss: 7.8970e-05 - mean_absolute_error: 0.0087 - val_loss: 0.0011 - val_mean_absolute_error: 0.0396\n",
      "Epoch 66/100\n",
      "\u001b[1m9/9\u001b[0m \u001b[32m━━━━━━━━━━━━━━━━━━━━\u001b[0m\u001b[37m\u001b[0m \u001b[1m0s\u001b[0m 3ms/step - loss: 8.1872e-05 - mean_absolute_error: 0.0085 - val_loss: 0.0010 - val_mean_absolute_error: 0.0365\n",
      "Epoch 67/100\n",
      "\u001b[1m9/9\u001b[0m \u001b[32m━━━━━━━━━━━━━━━━━━━━\u001b[0m\u001b[37m\u001b[0m \u001b[1m0s\u001b[0m 4ms/step - loss: 1.0240e-04 - mean_absolute_error: 0.0094 - val_loss: 0.0011 - val_mean_absolute_error: 0.0383\n",
      "Epoch 68/100\n",
      "\u001b[1m9/9\u001b[0m \u001b[32m━━━━━━━━━━━━━━━━━━━━\u001b[0m\u001b[37m\u001b[0m \u001b[1m0s\u001b[0m 3ms/step - loss: 8.4340e-05 - mean_absolute_error: 0.0088 - val_loss: 0.0010 - val_mean_absolute_error: 0.0371\n",
      "Epoch 69/100\n",
      "\u001b[1m9/9\u001b[0m \u001b[32m━━━━━━━━━━━━━━━━━━━━\u001b[0m\u001b[37m\u001b[0m \u001b[1m0s\u001b[0m 4ms/step - loss: 5.1683e-05 - mean_absolute_error: 0.0067 - val_loss: 0.0011 - val_mean_absolute_error: 0.0387\n",
      "Epoch 70/100\n",
      "\u001b[1m9/9\u001b[0m \u001b[32m━━━━━━━━━━━━━━━━━━━━\u001b[0m\u001b[37m\u001b[0m \u001b[1m0s\u001b[0m 5ms/step - loss: 1.0598e-04 - mean_absolute_error: 0.0095 - val_loss: 0.0011 - val_mean_absolute_error: 0.0389\n",
      "Epoch 71/100\n",
      "\u001b[1m9/9\u001b[0m \u001b[32m━━━━━━━━━━━━━━━━━━━━\u001b[0m\u001b[37m\u001b[0m \u001b[1m0s\u001b[0m 4ms/step - loss: 7.7128e-05 - mean_absolute_error: 0.0086 - val_loss: 0.0011 - val_mean_absolute_error: 0.0397\n",
      "Epoch 72/100\n",
      "\u001b[1m9/9\u001b[0m \u001b[32m━━━━━━━━━━━━━━━━━━━━\u001b[0m\u001b[37m\u001b[0m \u001b[1m0s\u001b[0m 3ms/step - loss: 9.0280e-05 - mean_absolute_error: 0.0089 - val_loss: 0.0011 - val_mean_absolute_error: 0.0372\n",
      "Epoch 73/100\n",
      "\u001b[1m9/9\u001b[0m \u001b[32m━━━━━━━━━━━━━━━━━━━━\u001b[0m\u001b[37m\u001b[0m \u001b[1m0s\u001b[0m 4ms/step - loss: 6.8451e-05 - mean_absolute_error: 0.0078 - val_loss: 0.0011 - val_mean_absolute_error: 0.0396\n",
      "Epoch 74/100\n",
      "\u001b[1m9/9\u001b[0m \u001b[32m━━━━━━━━━━━━━━━━━━━━\u001b[0m\u001b[37m\u001b[0m \u001b[1m0s\u001b[0m 4ms/step - loss: 6.4842e-05 - mean_absolute_error: 0.0072 - val_loss: 0.0010 - val_mean_absolute_error: 0.0367\n",
      "Epoch 75/100\n",
      "\u001b[1m9/9\u001b[0m \u001b[32m━━━━━━━━━━━━━━━━━━━━\u001b[0m\u001b[37m\u001b[0m \u001b[1m0s\u001b[0m 4ms/step - loss: 4.9439e-05 - mean_absolute_error: 0.0064 - val_loss: 0.0011 - val_mean_absolute_error: 0.0374\n",
      "Epoch 76/100\n",
      "\u001b[1m9/9\u001b[0m \u001b[32m━━━━━━━━━━━━━━━━━━━━\u001b[0m\u001b[37m\u001b[0m \u001b[1m0s\u001b[0m 4ms/step - loss: 5.9157e-05 - mean_absolute_error: 0.0067 - val_loss: 0.0010 - val_mean_absolute_error: 0.0364\n",
      "Epoch 77/100\n",
      "\u001b[1m9/9\u001b[0m \u001b[32m━━━━━━━━━━━━━━━━━━━━\u001b[0m\u001b[37m\u001b[0m \u001b[1m0s\u001b[0m 3ms/step - loss: 7.3132e-05 - mean_absolute_error: 0.0065 - val_loss: 0.0010 - val_mean_absolute_error: 0.0367\n",
      "Epoch 78/100\n",
      "\u001b[1m9/9\u001b[0m \u001b[32m━━━━━━━━━━━━━━━━━━━━\u001b[0m\u001b[37m\u001b[0m \u001b[1m0s\u001b[0m 4ms/step - loss: 5.4599e-05 - mean_absolute_error: 0.0060 - val_loss: 0.0010 - val_mean_absolute_error: 0.0364\n",
      "Epoch 79/100\n",
      "\u001b[1m9/9\u001b[0m \u001b[32m━━━━━━━━━━━━━━━━━━━━\u001b[0m\u001b[37m\u001b[0m \u001b[1m0s\u001b[0m 3ms/step - loss: 6.1974e-05 - mean_absolute_error: 0.0065 - val_loss: 0.0011 - val_mean_absolute_error: 0.0389\n",
      "Epoch 80/100\n",
      "\u001b[1m9/9\u001b[0m \u001b[32m━━━━━━━━━━━━━━━━━━━━\u001b[0m\u001b[37m\u001b[0m \u001b[1m0s\u001b[0m 3ms/step - loss: 6.0436e-05 - mean_absolute_error: 0.0060 - val_loss: 0.0010 - val_mean_absolute_error: 0.0371\n",
      "Epoch 81/100\n",
      "\u001b[1m9/9\u001b[0m \u001b[32m━━━━━━━━━━━━━━━━━━━━\u001b[0m\u001b[37m\u001b[0m \u001b[1m0s\u001b[0m 3ms/step - loss: 6.6495e-05 - mean_absolute_error: 0.0062 - val_loss: 0.0011 - val_mean_absolute_error: 0.0375\n",
      "Epoch 82/100\n",
      "\u001b[1m9/9\u001b[0m \u001b[32m━━━━━━━━━━━━━━━━━━━━\u001b[0m\u001b[37m\u001b[0m \u001b[1m0s\u001b[0m 4ms/step - loss: 7.4489e-05 - mean_absolute_error: 0.0075 - val_loss: 0.0010 - val_mean_absolute_error: 0.0382\n",
      "Epoch 83/100\n",
      "\u001b[1m9/9\u001b[0m \u001b[32m━━━━━━━━━━━━━━━━━━━━\u001b[0m\u001b[37m\u001b[0m \u001b[1m0s\u001b[0m 4ms/step - loss: 6.3364e-05 - mean_absolute_error: 0.0071 - val_loss: 0.0011 - val_mean_absolute_error: 0.0389\n",
      "Epoch 84/100\n",
      "\u001b[1m9/9\u001b[0m \u001b[32m━━━━━━━━━━━━━━━━━━━━\u001b[0m\u001b[37m\u001b[0m \u001b[1m0s\u001b[0m 4ms/step - loss: 6.3159e-05 - mean_absolute_error: 0.0079 - val_loss: 0.0010 - val_mean_absolute_error: 0.0388\n",
      "Epoch 85/100\n",
      "\u001b[1m9/9\u001b[0m \u001b[32m━━━━━━━━━━━━━━━━━━━━\u001b[0m\u001b[37m\u001b[0m \u001b[1m0s\u001b[0m 4ms/step - loss: 8.4534e-05 - mean_absolute_error: 0.0092 - val_loss: 0.0011 - val_mean_absolute_error: 0.0399\n",
      "Epoch 86/100\n",
      "\u001b[1m9/9\u001b[0m \u001b[32m━━━━━━━━━━━━━━━━━━━━\u001b[0m\u001b[37m\u001b[0m \u001b[1m0s\u001b[0m 23ms/step - loss: 8.7632e-05 - mean_absolute_error: 0.0090 - val_loss: 0.0011 - val_mean_absolute_error: 0.0394\n",
      "Epoch 87/100\n",
      "\u001b[1m9/9\u001b[0m \u001b[32m━━━━━━━━━━━━━━━━━━━━\u001b[0m\u001b[37m\u001b[0m \u001b[1m0s\u001b[0m 4ms/step - loss: 9.2637e-05 - mean_absolute_error: 0.0095 - val_loss: 0.0011 - val_mean_absolute_error: 0.0398\n",
      "Epoch 88/100\n",
      "\u001b[1m9/9\u001b[0m \u001b[32m━━━━━━━━━━━━━━━━━━━━\u001b[0m\u001b[37m\u001b[0m \u001b[1m0s\u001b[0m 4ms/step - loss: 1.0191e-04 - mean_absolute_error: 0.0099 - val_loss: 9.7450e-04 - val_mean_absolute_error: 0.0369\n",
      "Epoch 89/100\n",
      "\u001b[1m9/9\u001b[0m \u001b[32m━━━━━━━━━━━━━━━━━━━━\u001b[0m\u001b[37m\u001b[0m \u001b[1m0s\u001b[0m 4ms/step - loss: 1.0195e-04 - mean_absolute_error: 0.0097 - val_loss: 0.0011 - val_mean_absolute_error: 0.0390\n",
      "Epoch 90/100\n",
      "\u001b[1m9/9\u001b[0m \u001b[32m━━━━━━━━━━━━━━━━━━━━\u001b[0m\u001b[37m\u001b[0m \u001b[1m0s\u001b[0m 4ms/step - loss: 1.1851e-04 - mean_absolute_error: 0.0104 - val_loss: 0.0012 - val_mean_absolute_error: 0.0419\n",
      "Epoch 91/100\n",
      "\u001b[1m9/9\u001b[0m \u001b[32m━━━━━━━━━━━━━━━━━━━━\u001b[0m\u001b[37m\u001b[0m \u001b[1m0s\u001b[0m 4ms/step - loss: 1.0661e-04 - mean_absolute_error: 0.0098 - val_loss: 0.0012 - val_mean_absolute_error: 0.0401\n",
      "Epoch 92/100\n",
      "\u001b[1m9/9\u001b[0m \u001b[32m━━━━━━━━━━━━━━━━━━━━\u001b[0m\u001b[37m\u001b[0m \u001b[1m0s\u001b[0m 3ms/step - loss: 1.0681e-04 - mean_absolute_error: 0.0094 - val_loss: 0.0011 - val_mean_absolute_error: 0.0395\n",
      "Epoch 93/100\n",
      "\u001b[1m9/9\u001b[0m \u001b[32m━━━━━━━━━━━━━━━━━━━━\u001b[0m\u001b[37m\u001b[0m \u001b[1m0s\u001b[0m 4ms/step - loss: 1.0010e-04 - mean_absolute_error: 0.0095 - val_loss: 0.0011 - val_mean_absolute_error: 0.0366\n",
      "Epoch 94/100\n",
      "\u001b[1m9/9\u001b[0m \u001b[32m━━━━━━━━━━━━━━━━━━━━\u001b[0m\u001b[37m\u001b[0m \u001b[1m0s\u001b[0m 3ms/step - loss: 7.1509e-05 - mean_absolute_error: 0.0084 - val_loss: 0.0010 - val_mean_absolute_error: 0.0375\n",
      "Epoch 95/100\n",
      "\u001b[1m9/9\u001b[0m \u001b[32m━━━━━━━━━━━━━━━━━━━━\u001b[0m\u001b[37m\u001b[0m \u001b[1m0s\u001b[0m 4ms/step - loss: 5.8688e-05 - mean_absolute_error: 0.0075 - val_loss: 0.0011 - val_mean_absolute_error: 0.0383\n",
      "Epoch 96/100\n",
      "\u001b[1m9/9\u001b[0m \u001b[32m━━━━━━━━━━━━━━━━━━━━\u001b[0m\u001b[37m\u001b[0m \u001b[1m0s\u001b[0m 3ms/step - loss: 6.7492e-05 - mean_absolute_error: 0.0077 - val_loss: 0.0011 - val_mean_absolute_error: 0.0377\n",
      "Epoch 97/100\n",
      "\u001b[1m9/9\u001b[0m \u001b[32m━━━━━━━━━━━━━━━━━━━━\u001b[0m\u001b[37m\u001b[0m \u001b[1m0s\u001b[0m 4ms/step - loss: 7.6757e-05 - mean_absolute_error: 0.0074 - val_loss: 0.0011 - val_mean_absolute_error: 0.0385\n",
      "Epoch 98/100\n",
      "\u001b[1m9/9\u001b[0m \u001b[32m━━━━━━━━━━━━━━━━━━━━\u001b[0m\u001b[37m\u001b[0m \u001b[1m0s\u001b[0m 3ms/step - loss: 7.2715e-05 - mean_absolute_error: 0.0083 - val_loss: 0.0011 - val_mean_absolute_error: 0.0382\n",
      "Epoch 99/100\n",
      "\u001b[1m9/9\u001b[0m \u001b[32m━━━━━━━━━━━━━━━━━━━━\u001b[0m\u001b[37m\u001b[0m \u001b[1m0s\u001b[0m 3ms/step - loss: 7.6651e-05 - mean_absolute_error: 0.0080 - val_loss: 0.0010 - val_mean_absolute_error: 0.0360\n",
      "Epoch 100/100\n",
      "\u001b[1m9/9\u001b[0m \u001b[32m━━━━━━━━━━━━━━━━━━━━\u001b[0m\u001b[37m\u001b[0m \u001b[1m0s\u001b[0m 3ms/step - loss: 7.8041e-05 - mean_absolute_error: 0.0080 - val_loss: 0.0011 - val_mean_absolute_error: 0.0384\n"
     ]
    }
   ],
   "source": [
    "history = model.fit(pca_train_salary_data, train_target_salary_data,  epochs=100, validation_split=0.1)"
   ]
  },
  {
   "cell_type": "code",
   "execution_count": 1716,
   "id": "54b9dc35",
   "metadata": {},
   "outputs": [
    {
     "data": {
      "text/plain": [
       "array([[0.84, 0.  , 0.  , ..., 0.  , 0.  , 1.  ],\n",
       "       [0.4 , 0.  , 0.  , ..., 0.  , 1.  , 0.  ],\n",
       "       [0.64, 0.  , 0.  , ..., 0.  , 0.  , 1.  ],\n",
       "       ...,\n",
       "       [0.16, 0.  , 0.  , ..., 0.  , 0.  , 1.  ],\n",
       "       [0.56, 0.  , 0.  , ..., 0.  , 1.  , 0.  ],\n",
       "       [0.32, 0.  , 0.  , ..., 0.  , 0.  , 1.  ]])"
      ]
     },
     "execution_count": 1716,
     "metadata": {},
     "output_type": "execute_result"
    }
   ],
   "source": [
    "test_salary_data"
   ]
  },
  {
   "cell_type": "code",
   "execution_count": 1717,
   "id": "d716a127",
   "metadata": {},
   "outputs": [
    {
     "data": {
      "text/plain": [
       "array([[-6.10283401e-01, -1.09456830e+00, -4.01539715e-01, ...,\n",
       "        -5.03949351e-16,  1.86730060e-16, -3.60216960e-16],\n",
       "       [ 6.99799433e-01,  5.19275508e-01,  1.74257777e-02, ...,\n",
       "         2.49030177e-16, -1.99095842e-16, -6.81000151e-17],\n",
       "       [-7.05997891e-01,  2.87194198e-01,  2.55174404e-01, ...,\n",
       "         5.32503333e-17,  2.93518438e-16,  2.17727820e-16],\n",
       "       ...,\n",
       "       [-8.17192330e-01,  5.05667748e-01, -1.28053683e-01, ...,\n",
       "         3.36562200e-17,  1.39834394e-17, -7.79075898e-17],\n",
       "       [ 7.79551638e-01, -8.85003767e-01, -2.68459867e-01, ...,\n",
       "         1.97862568e-02,  4.02691245e-02,  7.01232948e-03],\n",
       "       [-7.71550002e-01,  4.58363526e-01, -2.26514493e-02, ...,\n",
       "         5.21844427e-17,  2.98595418e-17,  9.92507443e-17]])"
      ]
     },
     "execution_count": 1717,
     "metadata": {},
     "output_type": "execute_result"
    }
   ],
   "source": [
    "pca_test_salary_data = pca.transform(test_salary_data)\n",
    "pca_test_salary_data"
   ]
  },
  {
   "cell_type": "code",
   "execution_count": 1718,
   "id": "9d087d59",
   "metadata": {},
   "outputs": [
    {
     "name": "stdout",
     "output_type": "stream",
     "text": [
      "3/3 - 0s - 8ms/step - loss: 0.0017 - mean_absolute_error: 0.0516\n"
     ]
    },
    {
     "data": {
      "text/plain": [
       "[0.0016837966395542026, 0.05160801112651825]"
      ]
     },
     "execution_count": 1718,
     "metadata": {},
     "output_type": "execute_result"
    }
   ],
   "source": [
    "model.evaluate(pca_test_salary_data, test_target_salary_data, verbose=2)"
   ]
  },
  {
   "cell_type": "code",
   "execution_count": 1719,
   "id": "ea2c0af7",
   "metadata": {},
   "outputs": [
    {
     "name": "stdout",
     "output_type": "stream",
     "text": [
      "\u001b[1m3/3\u001b[0m \u001b[32m━━━━━━━━━━━━━━━━━━━━\u001b[0m\u001b[37m\u001b[0m \u001b[1m0s\u001b[0m 13ms/step\n"
     ]
    },
    {
     "data": {
      "text/plain": [
       "(array([[187844.72 ],\n",
       "        [ 70788.234],\n",
       "        [111775.91 ],\n",
       "        [107027.19 ],\n",
       "        [126285.22 ],\n",
       "        [160318.17 ],\n",
       "        [119779.27 ],\n",
       "        [113092.96 ],\n",
       "        [ 61716.316],\n",
       "        [104269.93 ]], dtype=float32),\n",
       " array([[180000.],\n",
       "        [ 65000.],\n",
       "        [125000.],\n",
       "        [ 80000.],\n",
       "        [140000.],\n",
       "        [160000.],\n",
       "        [160000.],\n",
       "        [120000.],\n",
       "        [ 50000.],\n",
       "        [ 95000.]]))"
      ]
     },
     "execution_count": 1719,
     "metadata": {},
     "output_type": "execute_result"
    }
   ],
   "source": [
    "predictions = model.predict(pca_test_salary_data)\n",
    "unscaled_predictions = scaler.inverse_transform(predictions)\n",
    "unscaled_test_target_salary_data = scaler.inverse_transform(test_target_salary_data)\n",
    "unscaled_predictions[:10], unscaled_test_target_salary_data[:10]"
   ]
  },
  {
   "cell_type": "code",
   "execution_count": 1720,
   "id": "bb3aedb8",
   "metadata": {},
   "outputs": [
    {
     "data": {
      "image/png": "[encoded data removed]",
      "text/plain": [
       "<Figure size 1000x600 with 1 Axes>"
      ]
     },
     "metadata": {},
     "output_type": "display_data"
    }
   ],
   "source": [
    "import matplotlib.pyplot as plt\n",
    "plt.figure(figsize=(10, 6))\n",
    "plt.scatter(test_target_salary_data, predictions, color='blue', label='Predicted vs Actual')\n",
    "plt.xlabel('Actual Values (y_test)')\n",
    "plt.ylabel('Predicted Values (y_pred)')\n",
    "plt.title('Actual vs Predicted Values for Regression Model')\n",
    "plt.legend()\n",
    "plt.show()"
   ]
  },
  {
   "cell_type": "code",
   "execution_count": 1721,
   "id": "41d34b15",
   "metadata": {},
   "outputs": [],
   "source": [
    "from keras import ops\n"
   ]
  },
  {
   "cell_type": "code",
   "execution_count": 1722,
   "id": "267935f9",
   "metadata": {},
   "outputs": [],
   "source": [
    "model.save('salary_model.keras')"
   ]
  }
 ],
 "metadata": {
  "kernelspec": {
   "display_name": ".venv",
   "language": "python",
   "name": "python3"
  },
  "language_info": {
   "codemirror_mode": {
    "name": "ipython",
    "version": 3
   },
   "file_extension": ".py",
   "mimetype": "text/x-python",
   "name": "python",
   "nbconvert_exporter": "python",
   "pygments_lexer": "ipython3",
   "version": "3.9.6"
  }
 },
 "nbformat": 4,
 "nbformat_minor": 5
}
